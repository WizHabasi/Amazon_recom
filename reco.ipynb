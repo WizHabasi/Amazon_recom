{
 "cells": [
  {
   "cell_type": "markdown",
   "metadata": {},
   "source": [
    "#### Importing libraries"
   ]
  },
  {
   "cell_type": "code",
   "execution_count": null,
   "metadata": {
    "execution": {
     "iopub.execute_input": "2025-01-28T05:08:49.635315Z",
     "iopub.status.busy": "2025-01-28T05:08:49.63498Z",
     "iopub.status.idle": "2025-01-28T05:08:49.640078Z",
     "shell.execute_reply": "2025-01-28T05:08:49.639076Z",
     "shell.execute_reply.started": "2025-01-28T05:08:49.635249Z"
    }
   },
   "outputs": [],
   "source": [
    "import numpy as np\n",
    "import pandas as pd\n",
    "import matplotlib.pyplot as plt\n",
    "\n",
    "plt.style.use(\"ggplot\")\n",
    "\n",
    "import sklearn\n",
    "from sklearn.decomposition import TruncatedSVD"
   ]
  },
  {
   "cell_type": "markdown",
   "metadata": {},
   "source": [
    "#### Loading the dataset"
   ]
  },
  {
   "cell_type": "code",
   "execution_count": null,
   "metadata": {
    "execution": {
     "iopub.execute_input": "2025-01-28T05:08:51.475313Z",
     "iopub.status.busy": "2025-01-28T05:08:51.475017Z",
     "iopub.status.idle": "2025-01-28T05:08:54.705256Z",
     "shell.execute_reply": "2025-01-28T05:08:54.704454Z",
     "shell.execute_reply.started": "2025-01-28T05:08:51.475268Z"
    }
   },
   "outputs": [],
   "source": [
    "amazon_ratings = pd.read_csv('ratings_Beauty.csv')\n",
    "amazon_ratings = amazon_ratings.dropna()\n",
    "amazon_ratings.head()"
   ]
  },
  {
   "cell_type": "code",
   "execution_count": null,
   "metadata": {
    "execution": {
     "iopub.execute_input": "2025-01-28T05:08:56.950236Z",
     "iopub.status.busy": "2025-01-28T05:08:56.949881Z",
     "iopub.status.idle": "2025-01-28T05:08:56.955966Z",
     "shell.execute_reply": "2025-01-28T05:08:56.95516Z",
     "shell.execute_reply.started": "2025-01-28T05:08:56.950183Z"
    }
   },
   "outputs": [],
   "source": [
    "amazon_ratings.shape"
   ]
  },
  {
   "cell_type": "code",
   "execution_count": null,
   "metadata": {
    "execution": {
     "iopub.execute_input": "2025-01-28T05:08:58.600247Z",
     "iopub.status.busy": "2025-01-28T05:08:58.599928Z",
     "iopub.status.idle": "2025-01-28T05:08:58.906811Z",
     "shell.execute_reply": "2025-01-28T05:08:58.905961Z",
     "shell.execute_reply.started": "2025-01-28T05:08:58.600203Z"
    }
   },
   "outputs": [],
   "source": [
    "popular_products = pd.DataFrame(amazon_ratings.groupby('ProductId')['Rating'].count())\n",
    "most_popular = popular_products.sort_values('Rating', ascending=False)\n",
    "most_popular.head(10)"
   ]
  },
  {
   "cell_type": "code",
   "execution_count": null,
   "metadata": {
    "execution": {
     "iopub.execute_input": "2025-01-28T05:09:01.150265Z",
     "iopub.status.busy": "2025-01-28T05:09:01.149893Z",
     "iopub.status.idle": "2025-01-28T05:09:01.730919Z",
     "shell.execute_reply": "2025-01-28T05:09:01.730146Z",
     "shell.execute_reply.started": "2025-01-28T05:09:01.150211Z"
    }
   },
   "outputs": [],
   "source": [
    "most_popular.head(30).plot(kind = \"bar\")"
   ]
  },
  {
   "cell_type": "markdown",
   "metadata": {},
   "source": [
    "## Recommendation System - Part II\n",
    "### Model-based collaborative filtering system\n",
    "\n",
    "* Recommend items to users based on purchase history and similarity of ratings provided by other users who bought items to that of a particular customer.\n",
    "* A model based collaborative filtering technique is closen here as it helps in making predictinfg products for a particular user by identifying patterns based on preferences from multiple user data."
   ]
  },
  {
   "cell_type": "code",
   "execution_count": null,
   "metadata": {
    "execution": {
     "iopub.execute_input": "2025-01-28T05:09:03.395346Z",
     "iopub.status.busy": "2025-01-28T05:09:03.394991Z",
     "iopub.status.idle": "2025-01-28T05:09:03.399528Z",
     "shell.execute_reply": "2025-01-28T05:09:03.398585Z",
     "shell.execute_reply.started": "2025-01-28T05:09:03.395275Z"
    }
   },
   "outputs": [],
   "source": [
    "# Subset of Amazon Ratings\n",
    "\n",
    "amazon_ratings1 = amazon_ratings.head(10000)"
   ]
  },
  {
   "cell_type": "code",
   "execution_count": null,
   "metadata": {
    "execution": {
     "iopub.execute_input": "2025-01-28T05:09:05.89045Z",
     "iopub.status.busy": "2025-01-28T05:09:05.89013Z",
     "iopub.status.idle": "2025-01-28T05:09:07.160022Z",
     "shell.execute_reply": "2025-01-28T05:09:07.159138Z",
     "shell.execute_reply.started": "2025-01-28T05:09:05.890406Z"
    }
   },
   "outputs": [],
   "source": [
    "ratings_utility_matrix = amazon_ratings1.pivot_table(values='Rating', index='UserId', columns='ProductId', fill_value=0)\n",
    "ratings_utility_matrix.head()"
   ]
  },
  {
   "cell_type": "markdown",
   "metadata": {},
   "source": [
    "As expected, the utility matrix obtaned above is sparce, I have filled up the unknown values wth 0."
   ]
  },
  {
   "cell_type": "code",
   "execution_count": null,
   "metadata": {
    "execution": {
     "iopub.execute_input": "2025-01-28T05:09:07.555378Z",
     "iopub.status.busy": "2025-01-28T05:09:07.555066Z",
     "iopub.status.idle": "2025-01-28T05:09:07.560937Z",
     "shell.execute_reply": "2025-01-28T05:09:07.559965Z",
     "shell.execute_reply.started": "2025-01-28T05:09:07.555331Z"
    }
   },
   "outputs": [],
   "source": [
    "ratings_utility_matrix.shape"
   ]
  },
  {
   "cell_type": "markdown",
   "metadata": {},
   "source": [
    "Transposing the matrix"
   ]
  },
  {
   "cell_type": "code",
   "execution_count": null,
   "metadata": {
    "execution": {
     "iopub.execute_input": "2025-01-28T05:09:11.405493Z",
     "iopub.status.busy": "2025-01-28T05:09:11.405114Z",
     "iopub.status.idle": "2025-01-28T05:09:11.428621Z",
     "shell.execute_reply": "2025-01-28T05:09:11.427808Z",
     "shell.execute_reply.started": "2025-01-28T05:09:11.405435Z"
    }
   },
   "outputs": [],
   "source": [
    "X = ratings_utility_matrix.T\n",
    "X.head()"
   ]
  },
  {
   "cell_type": "code",
   "execution_count": null,
   "metadata": {
    "execution": {
     "iopub.execute_input": "2025-01-28T05:09:12.60025Z",
     "iopub.status.busy": "2025-01-28T05:09:12.599909Z",
     "iopub.status.idle": "2025-01-28T05:09:12.605701Z",
     "shell.execute_reply": "2025-01-28T05:09:12.604836Z",
     "shell.execute_reply.started": "2025-01-28T05:09:12.600205Z"
    }
   },
   "outputs": [],
   "source": [
    "X.shape"
   ]
  },
  {
   "cell_type": "markdown",
   "metadata": {},
   "source": [
    "Unique products in subset of data"
   ]
  },
  {
   "cell_type": "code",
   "execution_count": null,
   "metadata": {
    "execution": {
     "iopub.execute_input": "2025-01-28T05:09:15.520056Z",
     "iopub.status.busy": "2025-01-28T05:09:15.519735Z",
     "iopub.status.idle": "2025-01-28T05:09:15.52369Z",
     "shell.execute_reply": "2025-01-28T05:09:15.52273Z",
     "shell.execute_reply.started": "2025-01-28T05:09:15.520005Z"
    }
   },
   "outputs": [],
   "source": [
    "X1 = X"
   ]
  },
  {
   "cell_type": "markdown",
   "metadata": {},
   "source": [
    "### Decomposing the Matrix"
   ]
  },
  {
   "cell_type": "code",
   "execution_count": null,
   "metadata": {
    "execution": {
     "iopub.execute_input": "2025-01-28T05:09:17.025658Z",
     "iopub.status.busy": "2025-01-28T05:09:17.025283Z",
     "iopub.status.idle": "2025-01-28T05:09:18.916274Z",
     "shell.execute_reply": "2025-01-28T05:09:18.915304Z",
     "shell.execute_reply.started": "2025-01-28T05:09:17.025595Z"
    }
   },
   "outputs": [],
   "source": [
    "SVD = TruncatedSVD(n_components=10)\n",
    "decomposed_matrix = SVD.fit_transform(X)\n",
    "decomposed_matrix.shape"
   ]
  },
  {
   "cell_type": "markdown",
   "metadata": {},
   "source": [
    "### Correlation Matrix"
   ]
  },
  {
   "cell_type": "code",
   "execution_count": null,
   "metadata": {
    "execution": {
     "iopub.execute_input": "2025-01-28T05:09:18.919005Z",
     "iopub.status.busy": "2025-01-28T05:09:18.918636Z",
     "iopub.status.idle": "2025-01-28T05:09:18.937053Z",
     "shell.execute_reply": "2025-01-28T05:09:18.935641Z",
     "shell.execute_reply.started": "2025-01-28T05:09:18.918922Z"
    }
   },
   "outputs": [],
   "source": [
    "correlation_matrix = np.corrcoef(decomposed_matrix)\n",
    "correlation_matrix.shape"
   ]
  },
  {
   "cell_type": "markdown",
   "metadata": {},
   "source": [
    "correlation_matrix"
   ]
  },
  {
   "cell_type": "markdown",
   "metadata": {},
   "source": [
    "### Isolating Product ID # 6117036094 from the Correlation Matrix\n",
    "\n",
    "Assuming the customer buys Product ID # 6117036094 (randomly chosen)"
   ]
  },
  {
   "cell_type": "code",
   "execution_count": null,
   "metadata": {
    "execution": {
     "iopub.execute_input": "2025-01-28T05:09:22.635425Z",
     "iopub.status.busy": "2025-01-28T05:09:22.635122Z",
     "iopub.status.idle": "2025-01-28T05:09:22.640432Z",
     "shell.execute_reply": "2025-01-28T05:09:22.639547Z",
     "shell.execute_reply.started": "2025-01-28T05:09:22.635381Z"
    },
    "scrolled": true
   },
   "outputs": [],
   "source": [
    "X.index[99]"
   ]
  },
  {
   "cell_type": "markdown",
   "metadata": {},
   "source": [
    "Index # of product ID purchased by customer"
   ]
  },
  {
   "cell_type": "code",
   "execution_count": null,
   "metadata": {
    "execution": {
     "iopub.execute_input": "2025-01-28T05:09:25.195448Z",
     "iopub.status.busy": "2025-01-28T05:09:25.195137Z",
     "iopub.status.idle": "2025-01-28T05:09:25.201652Z",
     "shell.execute_reply": "2025-01-28T05:09:25.200749Z",
     "shell.execute_reply.started": "2025-01-28T05:09:25.195404Z"
    }
   },
   "outputs": [],
   "source": [
    "i = \"6117036094\"\n",
    "\n",
    "product_names = list(X.index)\n",
    "product_ID = product_names.index(i)\n",
    "product_ID"
   ]
  },
  {
   "cell_type": "markdown",
   "metadata": {},
   "source": [
    "Correlation for all items with the item purchased by this customer based on items rated by other customers people who bought the same product"
   ]
  },
  {
   "cell_type": "code",
   "execution_count": null,
   "metadata": {
    "execution": {
     "iopub.execute_input": "2025-01-28T05:09:27.825309Z",
     "iopub.status.busy": "2025-01-28T05:09:27.824994Z",
     "iopub.status.idle": "2025-01-28T05:09:27.830583Z",
     "shell.execute_reply": "2025-01-28T05:09:27.829658Z",
     "shell.execute_reply.started": "2025-01-28T05:09:27.825259Z"
    }
   },
   "outputs": [],
   "source": [
    "correlation_product_ID = correlation_matrix[product_ID]\n",
    "correlation_product_ID.shape"
   ]
  },
  {
   "cell_type": "markdown",
   "metadata": {},
   "source": [
    "### Recommending top 10 highly correlated products in sequence"
   ]
  },
  {
   "cell_type": "code",
   "execution_count": null,
   "metadata": {
    "execution": {
     "iopub.execute_input": "2025-01-28T05:09:29.675338Z",
     "iopub.status.busy": "2025-01-28T05:09:29.67498Z",
     "iopub.status.idle": "2025-01-28T05:09:29.681639Z",
     "shell.execute_reply": "2025-01-28T05:09:29.68093Z",
     "shell.execute_reply.started": "2025-01-28T05:09:29.675264Z"
    }
   },
   "outputs": [],
   "source": [
    "Recommend = list(X.index[correlation_product_ID > 0.90])\n",
    "\n",
    "# Removes the item already bought by the customer\n",
    "Recommend.remove(i) \n",
    "\n",
    "Recommend[0:9]"
   ]
  },
  {
   "cell_type": "markdown",
   "metadata": {},
   "source": [
    "**Product Id # **\n",
    "Here are the top 10 products to be displayed by the recommendation system to the above customer based on the purchase history of other customers in the website. "
   ]
  },
  {
   "cell_type": "markdown",
   "metadata": {},
   "source": [
    "## Recommendation System - Part III\n",
    "* For a business without any user-item purchase history, a search engine based recommendation system can be designed for users. The product recommendations can be based on textual clustering analysis given in product description.\n",
    "* **Dataset : **[Home Depot's dataset with product dataset.](https://www.kaggle.com/c/home-depot-product-search-relevance/data)"
   ]
  },
  {
   "cell_type": "code",
   "execution_count": null,
   "metadata": {
    "execution": {
     "iopub.execute_input": "2025-01-28T05:09:33.325173Z",
     "iopub.status.busy": "2025-01-28T05:09:33.324844Z",
     "iopub.status.idle": "2025-01-28T05:09:33.483848Z",
     "shell.execute_reply": "2025-01-28T05:09:33.483046Z",
     "shell.execute_reply.started": "2025-01-28T05:09:33.325128Z"
    }
   },
   "outputs": [],
   "source": [
    "# Importing libraries\n",
    "\n",
    "from sklearn.feature_extraction.text import TfidfVectorizer, CountVectorizer\n",
    "from sklearn.neighbors import NearestNeighbors\n",
    "from sklearn.cluster import KMeans\n",
    "from sklearn.metrics import adjusted_rand_score"
   ]
  },
  {
   "cell_type": "markdown",
   "metadata": {},
   "source": [
    "### Item to item based recommendation system based on product description\n",
    "\n",
    "Applicable when business is setting up its E-commerce website for the first time"
   ]
  },
  {
   "cell_type": "code",
   "execution_count": null,
   "metadata": {
    "execution": {
     "iopub.execute_input": "2025-01-28T05:10:03.716044Z",
     "iopub.status.busy": "2025-01-28T05:10:03.715631Z",
     "iopub.status.idle": "2025-01-28T05:10:05.51739Z",
     "shell.execute_reply": "2025-01-28T05:10:05.516479Z",
     "shell.execute_reply.started": "2025-01-28T05:10:03.715981Z"
    }
   },
   "outputs": [],
   "source": [
    "product_descriptions = pd.read_csv('product_descriptions.csv.zip')\n",
    "product_descriptions.shape"
   ]
  },
  {
   "cell_type": "markdown",
   "metadata": {},
   "source": [
    "#### Checking for missing values"
   ]
  },
  {
   "cell_type": "code",
   "execution_count": null,
   "metadata": {
    "execution": {
     "iopub.execute_input": "2025-01-28T05:10:05.519922Z",
     "iopub.status.busy": "2025-01-28T05:10:05.519559Z",
     "iopub.status.idle": "2025-01-28T05:10:05.56137Z",
     "shell.execute_reply": "2025-01-28T05:10:05.560471Z",
     "shell.execute_reply.started": "2025-01-28T05:10:05.519858Z"
    }
   },
   "outputs": [],
   "source": [
    "# Missing values\n",
    "\n",
    "product_descriptions = product_descriptions.dropna()\n",
    "product_descriptions.shape\n",
    "product_descriptions.head()"
   ]
  },
  {
   "cell_type": "code",
   "execution_count": null,
   "metadata": {
    "execution": {
     "iopub.execute_input": "2025-01-28T05:10:06.865262Z",
     "iopub.status.busy": "2025-01-28T05:10:06.864909Z",
     "iopub.status.idle": "2025-01-28T05:10:06.872772Z",
     "shell.execute_reply": "2025-01-28T05:10:06.871913Z",
     "shell.execute_reply.started": "2025-01-28T05:10:06.865196Z"
    }
   },
   "outputs": [],
   "source": [
    "product_descriptions1 = product_descriptions.head(500)\n",
    "# product_descriptions1.iloc[:,1]\n",
    "\n",
    "product_descriptions1[\"product_description\"].head(10)"
   ]
  },
  {
   "cell_type": "markdown",
   "metadata": {},
   "source": [
    "#### Feature extraction from product descriptions\n",
    "\n",
    "Converting the text in product description into numerical data for analysis"
   ]
  },
  {
   "cell_type": "code",
   "execution_count": null,
   "metadata": {
    "execution": {
     "iopub.execute_input": "2025-01-28T05:10:11.235398Z",
     "iopub.status.busy": "2025-01-28T05:10:11.235109Z",
     "iopub.status.idle": "2025-01-28T05:10:11.329112Z",
     "shell.execute_reply": "2025-01-28T05:10:11.328079Z",
     "shell.execute_reply.started": "2025-01-28T05:10:11.235356Z"
    }
   },
   "outputs": [],
   "source": [
    "vectorizer = TfidfVectorizer(stop_words='english')\n",
    "X1 = vectorizer.fit_transform(product_descriptions1[\"product_description\"])\n",
    "X1"
   ]
  },
  {
   "cell_type": "markdown",
   "metadata": {},
   "source": [
    "#### Visualizing product clusters in subset of data"
   ]
  },
  {
   "cell_type": "code",
   "execution_count": null,
   "metadata": {
    "execution": {
     "iopub.execute_input": "2025-01-28T05:10:12.840222Z",
     "iopub.status.busy": "2025-01-28T05:10:12.83991Z",
     "iopub.status.idle": "2025-01-28T05:10:20.495844Z",
     "shell.execute_reply": "2025-01-28T05:10:20.494823Z",
     "shell.execute_reply.started": "2025-01-28T05:10:12.840173Z"
    }
   },
   "outputs": [],
   "source": [
    "# Fitting K-Means to the dataset\n",
    "\n",
    "X=X1\n",
    "\n",
    "kmeans = KMeans(n_clusters = 10, init = 'k-means++')\n",
    "y_kmeans = kmeans.fit_predict(X)\n",
    "plt.plot(y_kmeans, \".\")\n",
    "plt.show()\n"
   ]
  },
  {
   "cell_type": "markdown",
   "metadata": {},
   "source": [
    "F"
   ]
  },
  {
   "cell_type": "code",
   "execution_count": null,
   "metadata": {
    "execution": {
     "iopub.execute_input": "2025-01-28T05:10:20.49776Z",
     "iopub.status.busy": "2025-01-28T05:10:20.497432Z",
     "iopub.status.idle": "2025-01-28T05:10:20.502694Z",
     "shell.execute_reply": "2025-01-28T05:10:20.501827Z",
     "shell.execute_reply.started": "2025-01-28T05:10:20.497708Z"
    }
   },
   "outputs": [],
   "source": [
    "def print_cluster(i):\n",
    "    print(\"Cluster %d:\" % i),\n",
    "    for ind in order_centroids[i, :10]:\n",
    "        print(' %s' % terms[ind]),\n",
    "    print"
   ]
  },
  {
   "cell_type": "markdown",
   "metadata": {},
   "source": [
    "## Output\n",
    "* Recommendation of product based on the current product selected by user.\n",
    "* To recommend related product based on, Frequently bought together. "
   ]
  },
  {
   "cell_type": "markdown",
   "metadata": {},
   "source": [
    "#### Top words in each cluster based on product description"
   ]
  },
  {
   "cell_type": "code",
   "execution_count": null,
   "metadata": {
    "execution": {
     "iopub.execute_input": "2025-01-28T05:10:20.825302Z",
     "iopub.status.busy": "2025-01-28T05:10:20.825021Z",
     "iopub.status.idle": "2025-01-28T05:10:21.536019Z",
     "shell.execute_reply": "2025-01-28T05:10:21.535163Z",
     "shell.execute_reply.started": "2025-01-28T05:10:20.825259Z"
    }
   },
   "outputs": [],
   "source": [
    "# # Optimal clusters is \n",
    "\n",
    "true_k = 10\n",
    "\n",
    "model = KMeans(n_clusters=true_k, init='k-means++', max_iter=100, n_init=1)\n",
    "model.fit(X1)\n",
    "\n",
    "print(\"Top terms per cluster:\")\n",
    "order_centroids = model.cluster_centers_.argsort()[:, ::-1]\n",
    "terms = vectorizer.get_feature_names()\n",
    "for i in range(true_k):\n",
    "    print_cluster(i)"
   ]
  },
  {
   "cell_type": "markdown",
   "metadata": {},
   "source": [
    "#### Predicting clusters based on key search words"
   ]
  },
  {
   "cell_type": "code",
   "execution_count": null,
   "metadata": {
    "execution": {
     "iopub.execute_input": "2025-01-28T05:10:28.801142Z",
     "iopub.status.busy": "2025-01-28T05:10:28.800842Z",
     "iopub.status.idle": "2025-01-28T05:10:28.805847Z",
     "shell.execute_reply": "2025-01-28T05:10:28.804761Z",
     "shell.execute_reply.started": "2025-01-28T05:10:28.801098Z"
    }
   },
   "outputs": [],
   "source": [
    "def show_recommendations(product):\n",
    "    #print(\"Cluster ID:\")\n",
    "    Y = vectorizer.transform([product])\n",
    "    prediction = model.predict(Y)\n",
    "    #print(prediction)\n",
    "    print_cluster(prediction[0])"
   ]
  },
  {
   "cell_type": "markdown",
   "metadata": {},
   "source": [
    "* **Keyword : ** cutting tool"
   ]
  },
  {
   "cell_type": "code",
   "execution_count": null,
   "metadata": {
    "execution": {
     "iopub.execute_input": "2025-01-28T05:10:34.110713Z",
     "iopub.status.busy": "2025-01-28T05:10:34.110269Z",
     "iopub.status.idle": "2025-01-28T05:10:34.120148Z",
     "shell.execute_reply": "2025-01-28T05:10:34.11911Z",
     "shell.execute_reply.started": "2025-01-28T05:10:34.110646Z"
    }
   },
   "outputs": [],
   "source": [
    "show_recommendations(\"cutting tool\")"
   ]
  },
  {
   "cell_type": "markdown",
   "metadata": {},
   "source": [
    "* **Keyword : **spray paint"
   ]
  },
  {
   "cell_type": "code",
   "execution_count": null,
   "metadata": {
    "execution": {
     "iopub.execute_input": "2025-01-28T05:10:36.555368Z",
     "iopub.status.busy": "2025-01-28T05:10:36.555056Z",
     "iopub.status.idle": "2025-01-28T05:10:36.562048Z",
     "shell.execute_reply": "2025-01-28T05:10:36.56105Z",
     "shell.execute_reply.started": "2025-01-28T05:10:36.555314Z"
    }
   },
   "outputs": [],
   "source": [
    "show_recommendations(\"spray paint\")"
   ]
  },
  {
   "cell_type": "markdown",
   "metadata": {},
   "source": [
    "* **Keyword : **steel drill"
   ]
  },
  {
   "cell_type": "code",
   "execution_count": null,
   "metadata": {
    "execution": {
     "iopub.execute_input": "2025-01-28T05:10:42.476258Z",
     "iopub.status.busy": "2025-01-28T05:10:42.475951Z",
     "iopub.status.idle": "2025-01-28T05:10:42.483583Z",
     "shell.execute_reply": "2025-01-28T05:10:42.482301Z",
     "shell.execute_reply.started": "2025-01-28T05:10:42.476215Z"
    }
   },
   "outputs": [],
   "source": [
    "show_recommendations(\"steel drill\")"
   ]
  },
  {
   "cell_type": "markdown",
   "metadata": {},
   "source": [
    "In case a word appears in multiple clusters, the algorithm chooses the cluster with the highest frequency of occurance of the word."
   ]
  },
  {
   "cell_type": "markdown",
   "metadata": {},
   "source": [
    "* **Keyword : **water"
   ]
  },
  {
   "cell_type": "code",
   "execution_count": null,
   "metadata": {
    "execution": {
     "iopub.execute_input": "2025-01-28T05:10:45.875454Z",
     "iopub.status.busy": "2025-01-28T05:10:45.875137Z",
     "iopub.status.idle": "2025-01-28T05:10:45.881205Z",
     "shell.execute_reply": "2025-01-28T05:10:45.880223Z",
     "shell.execute_reply.started": "2025-01-28T05:10:45.875408Z"
    },
    "scrolled": true
   },
   "outputs": [],
   "source": [
    "show_recommendations(\"water\")"
   ]
  },
  {
   "cell_type": "markdown",
   "metadata": {},
   "source": [
    "Once a cluster is identified based on the user's search words, the recommendation system can display items from the corresponding product clusters based on the product descriptions."
   ]
  },
  {
   "cell_type": "markdown",
   "metadata": {},
   "source": [
    "#### Summary: \n",
    "\n",
    "This works best if a business is setting up its e-commerce website for the first time and does not have user-item purchase/rating history to start with initally. This recommendation system will help the users get a good recommendation to start with and once the buyers have a purchased history, the recommendation engine can use the model based collaborative filtering technique."
   ]
  }
 ],
 "metadata": {
  "kaggle": {
   "accelerator": "none",
   "dataSources": [
    {
     "databundleVersionId": 36114,
     "sourceId": 4853,
     "sourceType": "competition"
    },
    {
     "datasetId": 33019,
     "sourceId": 43260,
     "sourceType": "datasetVersion"
    }
   ],
   "dockerImageVersionId": 29271,
   "isGpuEnabled": false,
   "isInternetEnabled": false,
   "language": "python",
   "sourceType": "notebook"
  },
  "kernelspec": {
   "display_name": "Python 3 (ipykernel)",
   "language": "python",
   "name": "python3"
  },
  "language_info": {
   "codemirror_mode": {
    "name": "ipython",
    "version": 3
   },
   "file_extension": ".py",
   "mimetype": "text/x-python",
   "name": "python",
   "nbconvert_exporter": "python",
   "pygments_lexer": "ipython3",
   "version": "3.12.7"
  }
 },
 "nbformat": 4,
 "nbformat_minor": 4
}
